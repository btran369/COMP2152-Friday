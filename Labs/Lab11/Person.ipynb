{
 "cells": [
  {
   "cell_type": "code",
   "execution_count": null,
   "metadata": {
    "vscode": {
     "languageId": "plaintext"
    }
   },
   "outputs": [],
   "source": [
    "class Person():\n",
    "    def __init__(self, p_name, p_age, p_height):\n",
    "        self.__name = p_name\n",
    "        self.__age = p_age\n",
    "        self.__height = p_height\n",
    "        self.public_prop = \"i'm public\"\n",
    "    \n",
    "    @property\n",
    "    def name(self):\n",
    "        return self.__name\n",
    "    @name.setter\n",
    "    def name(self, new_name):\n",
    "        self.__name = new_name\n",
    "    \n",
    "    def __del__(self):\n",
    "        print(\"This person object is destroyed by the garbage collector\")\n",
    "\n",
    "person1 = Person(\"Phil\", 20, 6)\n",
    "print(str(person1.name))\n",
    "person1.name = \"Mike\"\n",
    "print(str(person1.name))"
   ]
  }
 ],
 "metadata": {
  "language_info": {
   "name": "python"
  }
 },
 "nbformat": 4,
 "nbformat_minor": 2
}
