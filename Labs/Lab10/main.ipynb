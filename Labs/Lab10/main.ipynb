{
 "cells": [
  {
   "cell_type": "code",
   "execution_count": null,
   "metadata": {
    "vscode": {
     "languageId": "plaintext"
    }
   },
   "outputs": [],
   "source": [
    "import sqlite3\n",
    "from contextlib import closing\n",
    "\n",
    "try:\n",
    "    with closing(sqlite3.connect('test.db')) as db_connection:\n",
    "        db_connection.row_factory = sqlite3.Row\n",
    "        with closing(db_connection.cursor()) as cursor:\n",
    "            try:\n",
    "                query1 = \"SELECT * FROM demo WHERE ID > 14\"\n",
    "                cursor.execute(query1)\n",
    "                rows = cursor.fetchall()\n",
    "                for row in rows:\n",
    "                    print(row[\"name\"])\n",
    "            except Exception as e:\n",
    "                print(\"Error Executing Query 1\")\n",
    "            \n",
    "            try:\n",
    "                del_row = int(input(\"Enter the row ID threshold for deletion:   \"))\n",
    "                query2 = \"DELETE FROM demo WHERE ID < ?\"\n",
    "                cursor.execute(query2, (del_row,))\n",
    "                num_rows = cursor.rowcount\n",
    "                print(f\"{num_rows} rows affected\")\n",
    "                db_connection.commit()\n",
    "            except Exception as e:\n",
    "                print(\"Error Executing Query 2\")\n",
    "except sqlite3.Error as e:\n",
    "    print(\"Failed Connection to database\")\n"
   ]
  }
 ],
 "metadata": {
  "language_info": {
   "name": "python"
  }
 },
 "nbformat": 4,
 "nbformat_minor": 2
}
