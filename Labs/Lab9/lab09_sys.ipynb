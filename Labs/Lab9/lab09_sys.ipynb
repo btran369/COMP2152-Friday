{
 "cells": [
  {
   "cell_type": "code",
   "execution_count": null,
   "metadata": {
    "vscode": {
     "languageId": "plaintext"
    }
   },
   "outputs": [],
   "source": [
    "import platform\n",
    "import socket\n",
    "import os\n",
    "import sys\n",
    "\n",
    "print(f\"\\nMachine Type: {platform.machine()}\")\n",
    "print(f\"\\nProcessor Type: {platform.architecture()}\")\n",
    "\n",
    "socket.setdefaulttimeout(50)\n",
    "print(f\"\\nDefault Socket Timeout: {socket.getdefaulttimeout()}\")\n",
    "\n",
    "print(f\"\\nOperating System Type: {os.name}\")\n",
    "print(f\"\\nOperating System Name: {platform.system()}\")\n",
    "print(f\"\\nCurrent PID: {os.getpid()}\")\n",
    "\n",
    "file_name = \"fdpractice.txt\"\n",
    "file_handle = os.open(file_name, os.O_RDWR | os.O_CREAT)\n",
    "file_obj_textIO = os.fdopen(file_handle, \"w+\")\n",
    "\n",
    "file_obj_textIO.write(\"This is a test string, this does nothing...\")\n",
    "file_obj_textIO.flush()\n",
    "\n",
    "#UNIX ONLY\n",
    "#pid = os.fork()\n",
    "\n",
    "pid = 0\n",
    "if pid == 0:\n",
    "    print(f\"\\nChild PID: {os.getpid()}, Parent PID: {os.getppid}\")\n",
    "    os.lseek(file_handle, 0, 0)\n",
    "    print(f\"\\nChild PID: {os.getpid()}; File Content: {os.read(file_handle, 100)}\")\n",
    "    os.close(file_handle)\n",
    "    sys.exit(0)\n",
    "else:\n",
    "    print(f\"\\nParent PID: {os.getpid}, Child PID: {os.pid}\")\n",
    "    print(\"Wait for child...\")\n",
    "    os.waitpid(pid, 0)\n",
    "    print(\"Child finished.\")\n",
    "    file_obj_textIO.close()\n",
    "sys.exit(0)\n"
   ]
  }
 ],
 "metadata": {
  "language_info": {
   "name": "python"
  }
 },
 "nbformat": 4,
 "nbformat_minor": 2
}
