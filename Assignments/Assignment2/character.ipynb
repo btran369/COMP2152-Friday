{
 "cells": [
  {
   "cell_type": "code",
   "execution_count": null,
   "metadata": {
    "vscode": {
     "languageId": "plaintext"
    }
   },
   "outputs": [],
   "source": [
    "import random\n",
    "\n",
    "small_dice_options = list(range(1, 7))\n",
    "big_dice_options = list(range(1, 21))\n",
    "\n",
    "class Character:\n",
    "    def __init__(self):\n",
    "        self.__combat_strength = random.choice(small_dice_options)\n",
    "        self.__health_points = random.choice(big_dice_options)\n",
    "\n",
    "    def __del__(self):\n",
    "        print(\"This Character is being destroyed by the garbage collector!\\n\")\n",
    "\n",
    "    @property\n",
    "    def combat_strength(self):\n",
    "        return self.__combat_strength\n",
    "\n",
    "    @combat_strength.setter\n",
    "    def combat_strength(self, strength):\n",
    "        if isinstance(strength, int) and strength >= 0:\n",
    "            self.__combat_strength = strength\n",
    "        else:\n",
    "            print(\"Invalid combat strength.\")\n",
    "\n",
    "    @property\n",
    "    def health_points(self):\n",
    "        return self.__health_points\n",
    "\n",
    "    @health_points.setter\n",
    "    def health_points(self, hp):\n",
    "        if isinstance(hp, int) and hp >= 0:\n",
    "            self.__health_points = hp\n",
    "        else:\n",
    "            print(\"Invalid health points.\")\n"
   ]
  }
 ],
 "metadata": {
  "language_info": {
   "name": "python"
  }
 },
 "nbformat": 4,
 "nbformat_minor": 2
}
