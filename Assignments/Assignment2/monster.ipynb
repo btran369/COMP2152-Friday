{
 "cells": [
  {
   "cell_type": "code",
   "execution_count": null,
   "id": "4001699a-b6ca-4892-8165-5a5ef7d18f1e",
   "metadata": {},
   "outputs": [],
   "source": [
    "# Imports and Useful Variables\n",
    "import random\n",
    "from character import Character\n",
    "small_dice_options = list(range(1, 7))\n",
    "big_dice_options = list(range(1, 21))\n",
    "\n",
    "# Hero Class\n",
    "class Monster(Character):\n",
    "    # Construtor\n",
    "    def __init__(self):\n",
    "        super().__init__()\n",
    "\n",
    "\n",
    "    def __del__(self):\n",
    "        super().__del__()\n",
    "    \n",
    "    # Monster Attack method\n",
    "    # Params: m_combat_strength, health_points\n",
    "    # Output: new health_points\n",
    "    def monster_attacks(self, player_health):\n",
    "        ascii_image2 = \"\"\"                                                                 \n",
    "           @@@@ @                           \n",
    "      (     @*&@  ,                         \n",
    "    @               %                       \n",
    "     &#(@(@%@@@@@*   /                      \n",
    "      @@@@@.                                \n",
    "               @       /                    \n",
    "                %         @                 \n",
    "            ,(@(*/           %              \n",
    "               @ (  .@#                 @   \n",
    "                          @           .@@. @\n",
    "                   @         ,              \n",
    "                      @       @ .@          \n",
    "                             @              \n",
    "                          *(*  *      \n",
    "             \"\"\"\n",
    "        print(ascii_image2)\n",
    "        print(f\"    |    Monster's Claw ({self.combat_strength}) ---> Player ({player_health})\")\n",
    "        if self.combat_strength >= player_health:\n",
    "            player_health = 0\n",
    "            print(\"    |    Player is dead\")\n",
    "        else:\n",
    "            player_health -= self.combat_strength\n",
    "            print(f\"    |    The monster has reduced Player's health to: {player_health}\")\n",
    "        return player_health"
   ]
  }
 ],
 "metadata": {
  "kernelspec": {
   "display_name": "Python 3 (ipykernel)",
   "language": "python",
   "name": "python3"
  },
  "language_info": {
   "codemirror_mode": {
    "name": "ipython",
    "version": 3
   },
   "file_extension": ".py",
   "mimetype": "text/x-python",
   "name": "python",
   "nbconvert_exporter": "python",
   "pygments_lexer": "ipython3",
   "version": "3.9.21"
  }
 },
 "nbformat": 4,
 "nbformat_minor": 5
}
