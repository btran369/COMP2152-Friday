{
 "cells": [
  {
   "cell_type": "code",
   "execution_count": null,
   "metadata": {
    "vscode": {
     "languageId": "plaintext"
    }
   },
   "outputs": [],
   "source": [
    "# Imports and Useful Variables\n",
    "import random\n",
    "from character import Character\n",
    "small_dice_options = list(range(1, 7))\n",
    "big_dice_options = list(range(1, 21))\n",
    "\n",
    "# Hero Class\n",
    "class Monster(Character):\n",
    "    # Construtor\n",
    "    def __init__(self):\n",
    "        super().__init__()\n",
    "\n",
    "\n",
    "    def __del__(self):\n",
    "        super().__del__()\n",
    "    \n",
    "    # Monster Attack method\n",
    "    # Params: m_combat_strength, health_points\n",
    "    # Output: new health_points\n",
    "    def monster_attacks(self, player_health):\n",
    "        ascii_image2 = \"\"\"                                                                 \n",
    "           @@@@ @                           \n",
    "      (     @*&@  ,                         \n",
    "    @               %                       \n",
    "     &#(@(@%@@@@@*   /                      \n",
    "      @@@@@.                                \n",
    "               @       /                    \n",
    "                %         @                 \n",
    "            ,(@(*/           %              \n",
    "               @ (  .@#                 @   \n",
    "                          @           .@@. @\n",
    "                   @         ,              \n",
    "                      @       @ .@          \n",
    "                             @              \n",
    "                          *(*  *      \n",
    "             \"\"\"\n",
    "        print(ascii_image2)\n",
    "        print(f\"    |    Monster's Claw ({self.combat_strength}) ---> Player ({player_health})\")\n",
    "        if self.combat_strength >= player_health:\n",
    "            player_health = 0\n",
    "            print(\"    |    Player is dead\")\n",
    "        else:\n",
    "            player_health -= self.combat_strength\n",
    "            print(f\"    |    The monster has reduced Player's health to: {player_health}\")\n",
    "        return player_health"
   ]
  }
 ],
 "metadata": {
  "language_info": {
   "name": "python"
  }
 },
 "nbformat": 4,
 "nbformat_minor": 2
}
