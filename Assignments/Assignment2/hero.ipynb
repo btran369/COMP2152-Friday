{
 "cells": [
  {
   "cell_type": "code",
   "execution_count": null,
   "metadata": {
    "vscode": {
     "languageId": "plaintext"
    }
   },
   "outputs": [],
   "source": [
    "# Imports and Useful Variables\n",
    "from character import Character\n",
    "import random\n",
    "\n",
    "small_dice_options = list(range(1, 7))\n",
    "big_dice_options = list(range(1, 21))\n",
    "\n",
    "# Hero Class\n",
    "class Hero(Character):\n",
    "    # Construtor\n",
    "    def __init__(self):\n",
    "        super().__init__()\n",
    "\n",
    "    def __del__(self):\n",
    "        super().__del__()\n",
    "\n",
    "    def hero_attacks(self, m_health_points):\n",
    "        ascii_image = \"\"\"\n",
    "                                @@   @@ \n",
    "                                @    @  \n",
    "                                @   @   \n",
    "               @@@@@@          @@  @    \n",
    "            @@       @@        @ @@     \n",
    "           @%         @     @@@ @       \n",
    "            @        @@     @@@@@     \n",
    "               @@@@@        @@       \n",
    "               @    @@@@                \n",
    "          @@@ @@                        \n",
    "       @@     @                         \n",
    "   @@*       @                          \n",
    "   @        @@                          \n",
    "           @@                                                    \n",
    "         @   @@@@@@@                    \n",
    "        @            @                  \n",
    "      @              @                  \n",
    "\n",
    "  \"\"\"\n",
    "        print(ascii_image)\n",
    "        print(f\"    |    Player's weapon ({self.combat_strength}) ---> Monster ({m_health_points})\")\n",
    "        if self.combat_strength >= m_health_points:\n",
    "            m_health_points = 0\n",
    "            print(\"    |    You have killed the monster\")\n",
    "        else:\n",
    "            m_health_points -= self.combat_strength\n",
    "            print(f\"    |    You have reduced the monster's health to: {m_health_points}\")\n",
    "        return m_health_points\n",
    "    \n"
   ]
  }
 ],
 "metadata": {
  "language_info": {
   "name": "python"
  }
 },
 "nbformat": 4,
 "nbformat_minor": 2
}
